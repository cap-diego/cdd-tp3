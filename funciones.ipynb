{
 "cells": [
  {
   "cell_type": "code",
   "execution_count": 27,
   "id": "26afe712-0f73-48fb-8bd3-e54fa6d3569b",
   "metadata": {},
   "outputs": [],
   "source": [
    "import matplotlib.pyplot as plt\n",
    "%matplotlib inline\n"
   ]
  },
  {
   "cell_type": "code",
   "execution_count": null,
   "id": "bec61868-d9c2-4d53-b663-bc58e684a281",
   "metadata": {},
   "outputs": [],
   "source": []
  },
  {
   "cell_type": "code",
   "execution_count": 28,
   "id": "0ff33eac-11f7-491d-9dd2-c7727b2bfce9",
   "metadata": {},
   "outputs": [],
   "source": [
    "\n",
    "def count_and_percent_by_column(_df, col):\n",
    "    _df = _df[[col]].groupby([col])[col].count().reset_index(name='count')\n",
    "    _df = _df.sort_values(by=\"count\", ascending = True)\n",
    "    return calc_percent(_df, \"count\")\n",
    "\n",
    "def draw_distr(_df, var, maxy=25):\n",
    "    fig, ax = plt.subplots(figsize=(7,7))\n",
    "    proy = count_and_percent_by_column(_df, var)\n",
    "    ax.scatter(x=proy[var], y=proy[\"percent\"])\n",
    "    ax.set_xticklabels(proy[var].str.upper(), fontdict={'horizontalalignment': 'right', 'size':10}, rotation=50)\n",
    "    ax.vlines(x=proy[var], ymin=0, ymax=proy[\"percent\"], color='blue')\n",
    "    ax.set_ylim(0, maxy)\n",
    "    title ='Distribución de los porcentajes para los valores de la variable {}'.format(var) \n",
    "    plt.title(title)\n",
    "    plt.show()\n",
    "    \n",
    "    \n",
    "def calc_percent(_df, c):\n",
    "    _df[\"percent\"] = (_df[c] / _df[c].sum()) * 100\n",
    "    return _df"
   ]
  },
  {
   "cell_type": "code",
   "execution_count": 29,
   "id": "66ab6181-a6c8-46dd-99f3-220143eddeba",
   "metadata": {},
   "outputs": [],
   "source": [
    "def draw_boxplot(_df, var, ylabel,outliers=False):\n",
    "    plt.boxplot(_df[var], showfliers=outliers)\n",
    "    title = \"Boxplot variable '{}'\".format(var)\n",
    "    plt.ylabel(ylabel)\n",
    "    plt.title(title)\n",
    "    plt.show()"
   ]
  },
  {
   "cell_type": "code",
   "execution_count": 30,
   "id": "3e801bf1-1efa-40ad-809d-54ef31507e5b",
   "metadata": {},
   "outputs": [],
   "source": [
    "def values_for_pair(_df, p1, p2):\n",
    "    res = _df.groupby(p1)[p2].apply(lambda x: x.unique()).reset_index()\n",
    "    res[\"cantidad_valores\"] = res[p2].str.len()\n",
    "    return res"
   ]
  },
  {
   "cell_type": "code",
   "execution_count": null,
   "id": "ce0346de-9db7-48b0-9cc1-a504796da1be",
   "metadata": {},
   "outputs": [],
   "source": []
  },
  {
   "cell_type": "code",
   "execution_count": null,
   "id": "674bacd1-3208-43c1-ba05-71dcd79ec269",
   "metadata": {},
   "outputs": [],
   "source": []
  }
 ],
 "metadata": {
  "kernelspec": {
   "display_name": "Python 3 (ipykernel)",
   "language": "python",
   "name": "python3"
  },
  "language_info": {
   "codemirror_mode": {
    "name": "ipython",
    "version": 3
   },
   "file_extension": ".py",
   "mimetype": "text/x-python",
   "name": "python",
   "nbconvert_exporter": "python",
   "pygments_lexer": "ipython3",
   "version": "3.8.2"
  }
 },
 "nbformat": 4,
 "nbformat_minor": 5
}
