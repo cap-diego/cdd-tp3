{
 "cells": [
  {
   "cell_type": "code",
   "execution_count": null,
   "id": "87fdbcc2-1149-4a23-9a8c-4ef0c134b7f8",
   "metadata": {},
   "outputs": [],
   "source": []
  },
  {
   "cell_type": "code",
   "execution_count": null,
   "id": "f244f083-26ff-4f02-b6cc-e01dfa98b0db",
   "metadata": {},
   "outputs": [],
   "source": [
    "# moneda_id to ISO 4217\n",
    "df.loc[df['moneda_id'].eq(\"pesos argentinos\"), \"moneda_id\"] = 'ARS'"
   ]
  },
  {
   "cell_type": "markdown",
   "id": "c48fe453-0e45-4eb6-a1d6-09ecedf635b5",
   "metadata": {},
   "source": [
    "# Cambiar sector_nombre y sector_id a los que tienen sector_nombre OTROS y su tipo_proyecto es REPAVIMENTACION DE CALZADA EXISTENTE"
   ]
  },
  {
   "cell_type": "code",
   "execution_count": null,
   "id": "478e3635-502e-4bdc-a9bf-7cf21359cf59",
   "metadata": {},
   "outputs": [],
   "source": [
    "\n",
    "df.loc[ (df.sector_nombre=='OTROS') & (df.tipo_proyecto=='REPAVIMENTACION DE CALZADA EXISTENTE'), \"sector_id\"] = 1001\n",
    "df.loc[ (df.sector_nombre=='OTROS') & (df.tipo_proyecto=='REPAVIMENTACION DE CALZADA EXISTENTE'), 'sector_nombre'] = 'OBRAS VIALES'"
   ]
  },
  {
   "cell_type": "markdown",
   "id": "4cbdb2f8-6cba-421f-ae52-4fb40ec909f6",
   "metadata": {},
   "source": [
    "# Cambiar sector_nombre y sector_id a los que tienen sector_nombre OTROS y su descripcion_fisica es REPAVIMENTACION DE CALZADA EXISTENTE"
   ]
  },
  {
   "cell_type": "code",
   "execution_count": null,
   "id": "fe65b925-ea3c-4614-a508-8a3f72b1b0b6",
   "metadata": {},
   "outputs": [],
   "source": [
    "\n",
    "df.loc[ (df.sector_nombre=='OTROS') & (df.descripcion_fisica == \"MEJORAMIENTO DE LA ESTRUCTURA Y TRANSITABILIDAD\"), \"sector_id\"] = 1001\n",
    "df.loc[ (df.sector_nombre=='OTROS') & (df.descripcion_fisica == \"ADECUACIÓN DE LAS CONDICIONES DE TRANSITABILIDAD\"), \"sector_id\"] = 1001\n",
    "df.loc[ (df.sector_nombre=='OTROS') & (df.descripcion_fisica == \"MEJORAMIENTO DE LA ESTRUCTURA Y TRANSITABILIDAD\"), 'sector_nombre'] = 'OBRAS VIALES'\n",
    "df.loc[ (df.sector_nombre=='OTROS') & (df.descripcion_fisica == \"ADECUACIÓN DE LAS CONDICIONES DE TRANSITABILIDAD\"), 'sector_nombre'] = 'OBRAS VIALES'\n"
   ]
  },
  {
   "cell_type": "markdown",
   "id": "ce77cfda-06ff-4538-809f-2625adb743cd",
   "metadata": {},
   "source": [
    "# Cambiar a sector_nombre a EQUIPAMIENTO URBANO el proyecto_id 1007351"
   ]
  },
  {
   "cell_type": "code",
   "execution_count": null,
   "id": "aacd0882-aee2-41a9-b045-ebe2a312b671",
   "metadata": {},
   "outputs": [],
   "source": [
    "df.loc[ (df.proyecto_id==1007351), \"sector_id\"] = 1004\n",
    "df.loc[ (df.proyecto_id==1007351), 'sector_nombre'] = 'EQUIPAMIENTO URBANO'"
   ]
  },
  {
   "cell_type": "markdown",
   "id": "bf3a2329-f9a5-4cdf-a883-48e6f68a4e1a",
   "metadata": {},
   "source": [
    "# Cambiar a sector_nombre a AGUA Y CLOACA el proyecto_id 1007343"
   ]
  },
  {
   "cell_type": "code",
   "execution_count": null,
   "id": "e46c7e9f-9490-49ca-a770-e0644185996e",
   "metadata": {},
   "outputs": [],
   "source": [
    "df.loc[ (df.proyecto_id==1007343), \"sector_id\"] = 1001\n",
    "df.loc[ (df.proyecto_id==1007343), 'sector_nombre'] = 'AGUA Y CLOACA'"
   ]
  },
  {
   "cell_type": "markdown",
   "id": "92aeb279-8683-4dd1-bb27-5aa2e00aedbb",
   "metadata": {},
   "source": [
    "# Cambiar a sector_nombre a VIVIENDA / HABITAT los proyecto_id 1007370 y 1007371"
   ]
  },
  {
   "cell_type": "code",
   "execution_count": 1,
   "id": "e08ba825-28da-485e-b850-e4a388ad8f10",
   "metadata": {},
   "outputs": [
    {
     "ename": "NameError",
     "evalue": "name 'df' is not defined",
     "output_type": "error",
     "traceback": [
      "\u001b[0;31m---------------------------------------------------------------------------\u001b[0m",
      "\u001b[0;31mNameError\u001b[0m                                 Traceback (most recent call last)",
      "\u001b[0;32m/var/folders/xn/7r_77mhs5q57f148g277d6sspmz18w/T/ipykernel_60382/2041759538.py\u001b[0m in \u001b[0;36m<module>\u001b[0;34m\u001b[0m\n\u001b[0;32m----> 1\u001b[0;31m \u001b[0mdf\u001b[0m\u001b[0;34m.\u001b[0m\u001b[0mloc\u001b[0m\u001b[0;34m[\u001b[0m \u001b[0;34m(\u001b[0m\u001b[0mdf\u001b[0m\u001b[0;34m.\u001b[0m\u001b[0mproyecto_id\u001b[0m\u001b[0;34m==\u001b[0m\u001b[0;36m1007370\u001b[0m\u001b[0;34m)\u001b[0m \u001b[0;34m|\u001b[0m \u001b[0;34m(\u001b[0m\u001b[0mdf\u001b[0m\u001b[0;34m.\u001b[0m\u001b[0mproyecto_id\u001b[0m\u001b[0;34m==\u001b[0m\u001b[0;36m1007371\u001b[0m\u001b[0;34m)\u001b[0m\u001b[0;34m,\u001b[0m \u001b[0;34m\"sector_id\"\u001b[0m\u001b[0;34m]\u001b[0m \u001b[0;34m=\u001b[0m \u001b[0;36m1012\u001b[0m\u001b[0;34m\u001b[0m\u001b[0;34m\u001b[0m\u001b[0m\n\u001b[0m\u001b[1;32m      2\u001b[0m \u001b[0mdf\u001b[0m\u001b[0;34m.\u001b[0m\u001b[0mloc\u001b[0m\u001b[0;34m[\u001b[0m \u001b[0;34m(\u001b[0m\u001b[0mdf\u001b[0m\u001b[0;34m.\u001b[0m\u001b[0mproyecto_id\u001b[0m\u001b[0;34m==\u001b[0m\u001b[0;36m1007370\u001b[0m\u001b[0;34m)\u001b[0m \u001b[0;34m|\u001b[0m \u001b[0;34m(\u001b[0m\u001b[0mdf\u001b[0m\u001b[0;34m.\u001b[0m\u001b[0mproyecto_id\u001b[0m\u001b[0;34m==\u001b[0m\u001b[0;36m1007371\u001b[0m\u001b[0;34m)\u001b[0m\u001b[0;34m,\u001b[0m \u001b[0;34m'sector_nombre'\u001b[0m\u001b[0;34m]\u001b[0m \u001b[0;34m=\u001b[0m \u001b[0;34m'VIVIENDA / HÁBITAT'\u001b[0m\u001b[0;34m\u001b[0m\u001b[0;34m\u001b[0m\u001b[0m\n",
      "\u001b[0;31mNameError\u001b[0m: name 'df' is not defined"
     ]
    }
   ],
   "source": [
    "df.loc[ (df.proyecto_id==1007370) | (df.proyecto_id==1007371), \"sector_id\"] = 1012\n",
    "df.loc[ (df.proyecto_id==1007370) | (df.proyecto_id==1007371), 'sector_nombre'] = 'VIVIENDA / HÁBITAT'"
   ]
  },
  {
   "cell_type": "code",
   "execution_count": null,
   "id": "6005d800-7b92-450c-b32c-478ab16f969b",
   "metadata": {},
   "outputs": [],
   "source": [
    "# Cambiar a sector_nombre a EQUIPAMIENTO URBANO los proyecto_id 1003101854, 153025001 y 1003200728"
   ]
  },
  {
   "cell_type": "code",
   "execution_count": null,
   "id": "40219240-3180-4c13-9ecf-c1bd1bd232ef",
   "metadata": {},
   "outputs": [],
   "source": [
    "df.loc[ (df.proyecto_id==1003101854) | (df.proyecto_id==1003200728) | (df.proyecto_id==153025001), \"sector_id\"] = 1004\n",
    "df.loc[ (df.proyecto_id==1003101854) | (df.proyecto_id==1003200728) | (df.proyecto_id==153025001), 'sector_nombre'] = 'EQUIPAMIENTO URBANO'"
   ]
  },
  {
   "cell_type": "code",
   "execution_count": null,
   "id": "65aaac24-4a87-48b8-8593-16d3f4f0116d",
   "metadata": {},
   "outputs": [],
   "source": []
  },
  {
   "cell_type": "code",
   "execution_count": null,
   "id": "b9f71cbc-414c-4273-a94c-e428a8347eec",
   "metadata": {},
   "outputs": [],
   "source": []
  }
 ],
 "metadata": {
  "kernelspec": {
   "display_name": "Python 3 (ipykernel)",
   "language": "python",
   "name": "python3"
  },
  "language_info": {
   "codemirror_mode": {
    "name": "ipython",
    "version": 3
   },
   "file_extension": ".py",
   "mimetype": "text/x-python",
   "name": "python",
   "nbconvert_exporter": "python",
   "pygments_lexer": "ipython3",
   "version": "3.8.2"
  }
 },
 "nbformat": 4,
 "nbformat_minor": 5
}
