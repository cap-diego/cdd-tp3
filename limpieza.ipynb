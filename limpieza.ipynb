{
 "cells": [
  {
   "cell_type": "code",
   "execution_count": null,
   "id": "87fdbcc2-1149-4a23-9a8c-4ef0c134b7f8",
   "metadata": {},
   "outputs": [],
   "source": []
  },
  {
   "cell_type": "code",
   "execution_count": null,
   "id": "f244f083-26ff-4f02-b6cc-e01dfa98b0db",
   "metadata": {},
   "outputs": [],
   "source": [
    "# moneda_id to ISO 4217\n",
    "df.loc[df['moneda_id'].eq(\"pesos argentinos\"), \"moneda_id\"] = 'ARS'"
   ]
  },
  {
   "cell_type": "markdown",
   "id": "c48fe453-0e45-4eb6-a1d6-09ecedf635b5",
   "metadata": {},
   "source": [
    "# Cambiar sector_nombre y sector_id a los que tienen sector_nombre OTROS y su tipo_proyecto es REPAVIMENTACION DE CALZADA EXISTENTE"
   ]
  },
  {
   "cell_type": "code",
   "execution_count": null,
   "id": "478e3635-502e-4bdc-a9bf-7cf21359cf59",
   "metadata": {},
   "outputs": [],
   "source": [
    "\n",
    "df.loc[ (df.sector_nombre=='OTROS') & (df.tipo_proyecto=='REPAVIMENTACION DE CALZADA EXISTENTE'), \"sector_id\"] = 1001\n",
    "df.loc[ (df.sector_nombre=='OTROS') & (df.tipo_proyecto=='REPAVIMENTACION DE CALZADA EXISTENTE'), 'sector_nombre'] = 'OBRAS VIALES'"
   ]
  },
  {
   "cell_type": "markdown",
   "id": "4cbdb2f8-6cba-421f-ae52-4fb40ec909f6",
   "metadata": {},
   "source": [
    "# Cambiar sector_nombre y sector_id a los que tienen sector_nombre OTROS y su descripcion_fisica es REPAVIMENTACION DE CALZADA EXISTENTE"
   ]
  },
  {
   "cell_type": "code",
   "execution_count": null,
   "id": "fe65b925-ea3c-4614-a508-8a3f72b1b0b6",
   "metadata": {},
   "outputs": [],
   "source": [
    "\n",
    "df.loc[ (df.sector_nombre=='OTROS') & (df.descripcion_fisica == \"MEJORAMIENTO DE LA ESTRUCTURA Y TRANSITABILIDAD\"), \"sector_id\"] = 1001\n",
    "df.loc[ (df.sector_nombre=='OTROS') & (df.descripcion_fisica == \"ADECUACIÓN DE LAS CONDICIONES DE TRANSITABILIDAD\"), \"sector_id\"] = 1001\n",
    "df.loc[ (df.sector_nombre=='OTROS') & (df.descripcion_fisica == \"MEJORAMIENTO DE LA ESTRUCTURA Y TRANSITABILIDAD\"), 'sector_nombre'] = 'OBRAS VIALES'\n",
    "df.loc[ (df.sector_nombre=='OTROS') & (df.descripcion_fisica == \"ADECUACIÓN DE LAS CONDICIONES DE TRANSITABILIDAD\"), 'sector_nombre'] = 'OBRAS VIALES'\n"
   ]
  },
  {
   "cell_type": "markdown",
   "id": "ce77cfda-06ff-4538-809f-2625adb743cd",
   "metadata": {},
   "source": [
    "# Cambiar a sector_nombre a EQUIPAMIENTO URBANO el proyecto_id 1007351"
   ]
  },
  {
   "cell_type": "code",
   "execution_count": null,
   "id": "aacd0882-aee2-41a9-b045-ebe2a312b671",
   "metadata": {},
   "outputs": [],
   "source": [
    "df.loc[ (df.proyecto_id==1007351), \"sector_id\"] = 1004\n",
    "df.loc[ (df.proyecto_id==1007351), 'sector_nombre'] = 'EQUIPAMIENTO URBANO'"
   ]
  },
  {
   "cell_type": "markdown",
   "id": "bf3a2329-f9a5-4cdf-a883-48e6f68a4e1a",
   "metadata": {},
   "source": [
    "# Cambiar a sector_nombre a AGUA Y CLOACA el proyecto_id 1007343"
   ]
  },
  {
   "cell_type": "code",
   "execution_count": null,
   "id": "e46c7e9f-9490-49ca-a770-e0644185996e",
   "metadata": {},
   "outputs": [],
   "source": [
    "df.loc[ (df.proyecto_id==1007343), \"sector_id\"] = 1001\n",
    "df.loc[ (df.proyecto_id==1007343), 'sector_nombre'] = 'AGUA Y CLOACA'"
   ]
  },
  {
   "cell_type": "markdown",
   "id": "92aeb279-8683-4dd1-bb27-5aa2e00aedbb",
   "metadata": {},
   "source": [
    "# Cambiar a sector_nombre a VIVIENDA / HABITAT los proyecto_id 1007370 y 1007371"
   ]
  },
  {
   "cell_type": "code",
   "execution_count": 1,
   "id": "e08ba825-28da-485e-b850-e4a388ad8f10",
   "metadata": {},
   "outputs": [
    {
     "ename": "NameError",
     "evalue": "name 'df' is not defined",
     "output_type": "error",
     "traceback": [
      "\u001b[0;31m---------------------------------------------------------------------------\u001b[0m",
      "\u001b[0;31mNameError\u001b[0m                                 Traceback (most recent call last)",
      "\u001b[0;32m/var/folders/xn/7r_77mhs5q57f148g277d6sspmz18w/T/ipykernel_60382/2041759538.py\u001b[0m in \u001b[0;36m<module>\u001b[0;34m\u001b[0m\n\u001b[0;32m----> 1\u001b[0;31m \u001b[0mdf\u001b[0m\u001b[0;34m.\u001b[0m\u001b[0mloc\u001b[0m\u001b[0;34m[\u001b[0m \u001b[0;34m(\u001b[0m\u001b[0mdf\u001b[0m\u001b[0;34m.\u001b[0m\u001b[0mproyecto_id\u001b[0m\u001b[0;34m==\u001b[0m\u001b[0;36m1007370\u001b[0m\u001b[0;34m)\u001b[0m \u001b[0;34m|\u001b[0m \u001b[0;34m(\u001b[0m\u001b[0mdf\u001b[0m\u001b[0;34m.\u001b[0m\u001b[0mproyecto_id\u001b[0m\u001b[0;34m==\u001b[0m\u001b[0;36m1007371\u001b[0m\u001b[0;34m)\u001b[0m\u001b[0;34m,\u001b[0m \u001b[0;34m\"sector_id\"\u001b[0m\u001b[0;34m]\u001b[0m \u001b[0;34m=\u001b[0m \u001b[0;36m1012\u001b[0m\u001b[0;34m\u001b[0m\u001b[0;34m\u001b[0m\u001b[0m\n\u001b[0m\u001b[1;32m      2\u001b[0m \u001b[0mdf\u001b[0m\u001b[0;34m.\u001b[0m\u001b[0mloc\u001b[0m\u001b[0;34m[\u001b[0m \u001b[0;34m(\u001b[0m\u001b[0mdf\u001b[0m\u001b[0;34m.\u001b[0m\u001b[0mproyecto_id\u001b[0m\u001b[0;34m==\u001b[0m\u001b[0;36m1007370\u001b[0m\u001b[0;34m)\u001b[0m \u001b[0;34m|\u001b[0m \u001b[0;34m(\u001b[0m\u001b[0mdf\u001b[0m\u001b[0;34m.\u001b[0m\u001b[0mproyecto_id\u001b[0m\u001b[0;34m==\u001b[0m\u001b[0;36m1007371\u001b[0m\u001b[0;34m)\u001b[0m\u001b[0;34m,\u001b[0m \u001b[0;34m'sector_nombre'\u001b[0m\u001b[0;34m]\u001b[0m \u001b[0;34m=\u001b[0m \u001b[0;34m'VIVIENDA / HÁBITAT'\u001b[0m\u001b[0;34m\u001b[0m\u001b[0;34m\u001b[0m\u001b[0m\n",
      "\u001b[0;31mNameError\u001b[0m: name 'df' is not defined"
     ]
    }
   ],
   "source": [
    "df.loc[ (df.proyecto_id==1007370) | (df.proyecto_id==1007371), \"sector_id\"] = 1012\n",
    "df.loc[ (df.proyecto_id==1007370) | (df.proyecto_id==1007371), 'sector_nombre'] = 'VIVIENDA / HÁBITAT'"
   ]
  },
  {
   "cell_type": "code",
   "execution_count": null,
   "id": "6005d800-7b92-450c-b32c-478ab16f969b",
   "metadata": {},
   "outputs": [],
   "source": [
    "# Cambiar a sector_nombre a EQUIPAMIENTO URBANO los proyecto_id 1003101854, 153025001 y 1003200728"
   ]
  },
  {
   "cell_type": "code",
   "execution_count": null,
   "id": "40219240-3180-4c13-9ecf-c1bd1bd232ef",
   "metadata": {},
   "outputs": [],
   "source": [
    "df.loc[ (df.proyecto_id==1003101854) | (df.proyecto_id==1003200728) | (df.proyecto_id==153025001), \"sector_id\"] = 1004\n",
    "df.loc[ (df.proyecto_id==1003101854) | (df.proyecto_id==1003200728) | (df.proyecto_id==153025001), 'sector_nombre'] = 'EQUIPAMIENTO URBANO'"
   ]
  },
  {
   "cell_type": "code",
   "execution_count": null,
   "id": "65aaac24-4a87-48b8-8593-16d3f4f0116d",
   "metadata": {},
   "outputs": [],
   "source": []
  },
  {
   "cell_type": "markdown",
   "id": "5c34c879-eea3-48a1-980b-dc9b69e08052",
   "metadata": {},
   "source": [
    "# Sacar a los valores de Etapa Obra el caracter especial \"-\""
   ]
  },
  {
   "cell_type": "code",
   "execution_count": null,
   "id": "4247c39b-9dd1-4d7e-b78c-4144eb4b8fba",
   "metadata": {},
   "outputs": [],
   "source": [
    "df['etapa_obra'] = df['etapa_obra'].str.replace('-','')"
   ]
  },
  {
   "cell_type": "code",
   "execution_count": null,
   "id": "b7c67841-60fc-4dea-87e2-59cdaa3cd927",
   "metadata": {},
   "outputs": [],
   "source": []
  },
  {
   "cell_type": "markdown",
   "id": "10f650ad-9b87-4050-90f8-a2e0ebe40794",
   "metadata": {},
   "source": [
    "# Poner valores numericos para asignarle un peso que permita ser analizado a las etapas de las obras."
   ]
  },
  {
   "cell_type": "code",
   "execution_count": 9,
   "id": "73663680-b691-4a17-a561-92185de7c253",
   "metadata": {},
   "outputs": [],
   "source": [
    "etapa_obras_mapping = {\n",
    "    \"FINALIZADA\": 0,\n",
    "    \"EN EJECUCION\": 1,\n",
    "    \"CONTRADA\": 2,\n",
    "    \"NEUTRALIZADA\": 3,\n",
    "    \"PARALIZADA\":4,\n",
    "    \"A REPROGRAMAR\": 5,\n",
    "    \"RESCINDIDA\": 6,\n",
    "    \"EN PROCESO DE CIERRE\": 7,\n",
    "    \"RESCISION DE CONTRATO\":8\n",
    "}"
   ]
  },
  {
   "cell_type": "code",
   "execution_count": 10,
   "id": "44078652-3986-4dfd-af7d-e8f47a46a20f",
   "metadata": {},
   "outputs": [],
   "source": [
    "#df[\"etapa_obra_num\"] = df[\"etapa_obra\"].replace(to_replace=etapa_obras_mapping, inplace=True)"
   ]
  },
  {
   "cell_type": "code",
   "execution_count": 12,
   "id": "f1123bb2-aa90-4743-8628-c967b4177df5",
   "metadata": {},
   "outputs": [
    {
     "ename": "NameError",
     "evalue": "name 'df' is not defined",
     "output_type": "error",
     "traceback": [
      "\u001b[0;31m---------------------------------------------------------------------------\u001b[0m",
      "\u001b[0;31mNameError\u001b[0m                                 Traceback (most recent call last)",
      "\u001b[0;32m/var/folders/xn/7r_77mhs5q57f148g277d6sspmz18w/T/ipykernel_60382/3125397583.py\u001b[0m in \u001b[0;36m<module>\u001b[0;34m\u001b[0m\n\u001b[0;32m----> 1\u001b[0;31m \u001b[0mdf\u001b[0m\u001b[0;34m[\u001b[0m\u001b[0;34m\"etapa_obra_num\"\u001b[0m\u001b[0;34m]\u001b[0m \u001b[0;34m=\u001b[0m \u001b[0mdf\u001b[0m\u001b[0;34m[\u001b[0m\u001b[0;34m'etapa_obra'\u001b[0m\u001b[0;34m]\u001b[0m\u001b[0;34m.\u001b[0m\u001b[0mmap\u001b[0m\u001b[0;34m(\u001b[0m\u001b[0metapa_obras_mapping\u001b[0m\u001b[0;34m)\u001b[0m\u001b[0;34m\u001b[0m\u001b[0;34m\u001b[0m\u001b[0m\n\u001b[0m",
      "\u001b[0;31mNameError\u001b[0m: name 'df' is not defined"
     ]
    }
   ],
   "source": [
    "\n",
    "df[\"etapa_obra_num\"] = df['etapa_obra'].map(etapa_obras_mapping)"
   ]
  },
  {
   "cell_type": "code",
   "execution_count": null,
   "id": "ab72eb5d-fcbe-4e6b-aaa7-37a61428b110",
   "metadata": {},
   "outputs": [],
   "source": []
  },
  {
   "cell_type": "markdown",
   "id": "0b36225e-027a-4098-8f39-c040a7f1296f",
   "metadata": {},
   "source": []
  },
  {
   "cell_type": "code",
   "execution_count": null,
   "id": "e1b99bff-ea39-48da-b909-7316fcc522e0",
   "metadata": {},
   "outputs": [],
   "source": []
  },
  {
   "cell_type": "code",
   "execution_count": null,
   "id": "499e2067-212a-4c9a-a676-a782487cef6d",
   "metadata": {},
   "outputs": [],
   "source": []
  },
  {
   "cell_type": "code",
   "execution_count": null,
   "id": "247fbdf6-4b6d-41c4-9a74-667af9666f81",
   "metadata": {},
   "outputs": [],
   "source": []
  },
  {
   "cell_type": "code",
   "execution_count": null,
   "id": "ffb798cf-a81b-4df7-92b2-5ec0b977b36f",
   "metadata": {},
   "outputs": [],
   "source": []
  },
  {
   "cell_type": "code",
   "execution_count": null,
   "id": "4189ec76-8022-4398-8442-1d791c42f25a",
   "metadata": {},
   "outputs": [],
   "source": []
  }
 ],
 "metadata": {
  "kernelspec": {
   "display_name": "Python 3 (ipykernel)",
   "language": "python",
   "name": "python3"
  },
  "language_info": {
   "codemirror_mode": {
    "name": "ipython",
    "version": 3
   },
   "file_extension": ".py",
   "mimetype": "text/x-python",
   "name": "python",
   "nbconvert_exporter": "python",
   "pygments_lexer": "ipython3",
   "version": "3.8.2"
  }
 },
 "nbformat": 4,
 "nbformat_minor": 5
}
