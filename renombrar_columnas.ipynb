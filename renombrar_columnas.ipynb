{
 "cells": [
  {
   "cell_type": "code",
   "execution_count": 3,
   "id": "3f5d08db-65a8-49f3-97c4-07e3011faa4d",
   "metadata": {},
   "outputs": [
    {
     "ename": "NameError",
     "evalue": "name 'df' is not defined",
     "output_type": "error",
     "traceback": [
      "\u001b[0;31m---------------------------------------------------------------------------\u001b[0m",
      "\u001b[0;31mNameError\u001b[0m                                 Traceback (most recent call last)",
      "\u001b[0;32m/var/folders/xn/7r_77mhs5q57f148g277d6sspmz18w/T/ipykernel_60387/866057650.py\u001b[0m in \u001b[0;36m<module>\u001b[0;34m\u001b[0m\n\u001b[1;32m      1\u001b[0m \u001b[0;31m# Elimino fechainiciomes, fechainicioanio, fechafinmes, fechafinanio,\u001b[0m\u001b[0;34m\u001b[0m\u001b[0;34m\u001b[0m\u001b[0;34m\u001b[0m\u001b[0m\n\u001b[0;32m----> 2\u001b[0;31m \u001b[0mdf\u001b[0m \u001b[0;34m=\u001b[0m \u001b[0mdf\u001b[0m\u001b[0;34m.\u001b[0m\u001b[0mdrop\u001b[0m\u001b[0;34m(\u001b[0m\u001b[0mlabels\u001b[0m\u001b[0;34m=\u001b[0m\u001b[0;34m[\u001b[0m\u001b[0;34m\"fechainiciomes\"\u001b[0m\u001b[0;34m,\u001b[0m \u001b[0;34m\"fechainicioanio\"\u001b[0m\u001b[0;34m,\u001b[0m \u001b[0;34m\"fechafinmes\"\u001b[0m\u001b[0;34m,\u001b[0m \u001b[0;34m\"fechafinanio\"\u001b[0m\u001b[0;34m]\u001b[0m\u001b[0;34m,\u001b[0m \u001b[0maxis\u001b[0m\u001b[0;34m=\u001b[0m\u001b[0;36m1\u001b[0m\u001b[0;34m)\u001b[0m\u001b[0;34m\u001b[0m\u001b[0;34m\u001b[0m\u001b[0m\n\u001b[0m",
      "\u001b[0;31mNameError\u001b[0m: name 'df' is not defined"
     ]
    }
   ],
   "source": [
    "# Elimino fechainiciomes, fechainicioanio, fechafinmes, fechafinanio,\n",
    "df = df.drop(labels=[\"fechainiciomes\", \"fechainicioanio\", \"fechafinmes\", \"fechafinanio\"], axis=1)"
   ]
  },
  {
   "cell_type": "code",
   "execution_count": 4,
   "id": "4aa89624-c727-4832-af86-9f501580d561",
   "metadata": {},
   "outputs": [],
   "source": [
    "columns = {\n",
    "    \"idproyecto\": \"proyecto_id\",\n",
    "    \"numeroobra\": \"numeroobra\",\n",
    "    \"codigobapin\": \"codigo_bapin\",\n",
    "    \"fechainicio\": \"fecha_inicio\",\n",
    "    \"fechafin\": \"fecha_fin\",\n",
    "    \"nombreobra\": \"nombre_obra\",\n",
    "    \"descripicionfisica\": \"descripcion_fisica\",\n",
    "    \"montototal\": \"monto_total\",\n",
    "    \"sectorid\": \"sector_id\",\n",
    "    \"sectornombre\": \"sector_nombre\",\n",
    "    \"avancefinanciero\": \"avance_financiero\",\n",
    "    \"avancefisico\": \"avance_fisico\",\n",
    "    \"entidadejecutoraid\": \"entidad_ejecutora_id\",\n",
    "    \"entidadejecutoranombre\": \"entidad_ejecutora_nombre\",\n",
    "    \"duracionobra\": \"duracion_obra\",\n",
    "    \"plazodias\": \"plazo_dias\",\n",
    "    \"objetivogeneral\": \"objetivo_general\",\n",
    "    \"tipoproyecto\": \"tipo_proyecto\",\n",
    "    \"nombredepto\": \"depto\",\n",
    "    \"numeroobra\": \"numero_obra\",\n",
    "    \"nombreprovincia\": \"provincia\",\n",
    "    \"codigobahra\": \"codigo_bahra\",\n",
    "    \"etapaobra\": \"etapa_obra\",\n",
    "    \"numerosaf\": \"numero_saf\",\n",
    "    \"tipomoneda\": \"moneda_id\"\n",
    "}"
   ]
  },
  {
   "cell_type": "markdown",
   "id": "53bcdc1e-2c7f-431c-a014-33bcb85e801e",
   "metadata": {},
   "source": [
    "# Renombrar columnas"
   ]
  },
  {
   "cell_type": "code",
   "execution_count": 5,
   "id": "c17f5bcb-93d3-4ec9-9183-870b7b21d488",
   "metadata": {},
   "outputs": [
    {
     "ename": "NameError",
     "evalue": "name 'df' is not defined",
     "output_type": "error",
     "traceback": [
      "\u001b[0;31m---------------------------------------------------------------------------\u001b[0m",
      "\u001b[0;31mNameError\u001b[0m                                 Traceback (most recent call last)",
      "\u001b[0;32m/var/folders/xn/7r_77mhs5q57f148g277d6sspmz18w/T/ipykernel_60387/1270887494.py\u001b[0m in \u001b[0;36m<module>\u001b[0;34m\u001b[0m\n\u001b[1;32m      1\u001b[0m \u001b[0;32mfor\u001b[0m \u001b[0mc\u001b[0m \u001b[0;32min\u001b[0m \u001b[0mcolumns\u001b[0m\u001b[0;34m.\u001b[0m\u001b[0mitems\u001b[0m\u001b[0;34m(\u001b[0m\u001b[0;34m)\u001b[0m\u001b[0;34m:\u001b[0m\u001b[0;34m\u001b[0m\u001b[0;34m\u001b[0m\u001b[0m\n\u001b[0;32m----> 2\u001b[0;31m     \u001b[0mdf\u001b[0m\u001b[0;34m.\u001b[0m\u001b[0mcolumns\u001b[0m \u001b[0;34m=\u001b[0m \u001b[0mdf\u001b[0m\u001b[0;34m.\u001b[0m\u001b[0mcolumns\u001b[0m\u001b[0;34m.\u001b[0m\u001b[0mstr\u001b[0m\u001b[0;34m.\u001b[0m\u001b[0mreplace\u001b[0m\u001b[0;34m(\u001b[0m\u001b[0mc\u001b[0m\u001b[0;34m[\u001b[0m\u001b[0;36m0\u001b[0m\u001b[0;34m]\u001b[0m\u001b[0;34m,\u001b[0m \u001b[0mc\u001b[0m\u001b[0;34m[\u001b[0m\u001b[0;36m1\u001b[0m\u001b[0;34m]\u001b[0m\u001b[0;34m)\u001b[0m\u001b[0;34m\u001b[0m\u001b[0;34m\u001b[0m\u001b[0m\n\u001b[0m",
      "\u001b[0;31mNameError\u001b[0m: name 'df' is not defined"
     ]
    }
   ],
   "source": [
    "for c in columns.items():\n",
    "    df.columns = df.columns.str.replace(c[0], c[1])"
   ]
  },
  {
   "cell_type": "code",
   "execution_count": null,
   "id": "ba4519f1-db77-40f4-839d-5687b4778756",
   "metadata": {},
   "outputs": [],
   "source": []
  },
  {
   "cell_type": "code",
   "execution_count": null,
   "id": "1c16a0ec-ad6e-4697-af93-942941f0af10",
   "metadata": {},
   "outputs": [],
   "source": []
  },
  {
   "cell_type": "code",
   "execution_count": null,
   "id": "514a1a33-0baf-4632-aebc-4924a2a2211d",
   "metadata": {},
   "outputs": [],
   "source": []
  }
 ],
 "metadata": {
  "kernelspec": {
   "display_name": "Python 3 (ipykernel)",
   "language": "python",
   "name": "python3"
  },
  "language_info": {
   "codemirror_mode": {
    "name": "ipython",
    "version": 3
   },
   "file_extension": ".py",
   "mimetype": "text/x-python",
   "name": "python",
   "nbconvert_exporter": "python",
   "pygments_lexer": "ipython3",
   "version": "3.8.2"
  }
 },
 "nbformat": 4,
 "nbformat_minor": 5
}
